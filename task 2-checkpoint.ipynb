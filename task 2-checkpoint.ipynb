{
 "cells": [
  {
   "cell_type": "code",
   "execution_count": 1,
   "id": "1611a7f5-c094-492d-8946-c67eb9f3f396",
   "metadata": {},
   "outputs": [],
   "source": [
    "import pandas as pd\n",
    "from matplotlib import pyplot as plt\n",
    "import numpy as np\n",
    "import seaborn as sns\n",
    "\n",
    "from sklearn.linear_model import LinearRegression\n",
    "from sklearn.model_selection import train_test_split\n",
    "from sklearn.metrics import mean_squared_error, r2_score"
   ]
  },
  {
   "cell_type": "raw",
   "id": "893f0647-d235-4ea9-b581-5e909313baeb",
   "metadata": {},
   "source": [
    "#Readng file from dataset"
   ]
  },
  {
   "cell_type": "code",
   "execution_count": 2,
   "id": "ad2f1dad-2767-4cc7-ab9d-014645e3dae7",
   "metadata": {},
   "outputs": [],
   "source": [
    "df = pd.read_csv('dataset/04-advertising_dataset.csv')"
   ]
  },
  {
   "cell_type": "raw",
   "id": "b550b862-e309-4803-948c-1af5086e8af1",
   "metadata": {},
   "source": [
    "#training of our data in simple linear regression"
   ]
  },
  {
   "cell_type": "code",
   "execution_count": 3,
   "id": "d4974de2-c3b0-4721-a89e-35ee8d331604",
   "metadata": {},
   "outputs": [
    {
     "data": {
      "text/html": [
       "<div>\n",
       "<style scoped>\n",
       "    .dataframe tbody tr th:only-of-type {\n",
       "        vertical-align: middle;\n",
       "    }\n",
       "\n",
       "    .dataframe tbody tr th {\n",
       "        vertical-align: top;\n",
       "    }\n",
       "\n",
       "    .dataframe thead th {\n",
       "        text-align: right;\n",
       "    }\n",
       "</style>\n",
       "<table border=\"1\" class=\"dataframe\">\n",
       "  <thead>\n",
       "    <tr style=\"text-align: right;\">\n",
       "      <th></th>\n",
       "      <th>TV</th>\n",
       "    </tr>\n",
       "  </thead>\n",
       "  <tbody>\n",
       "    <tr>\n",
       "      <th>0</th>\n",
       "      <td>230.1</td>\n",
       "    </tr>\n",
       "    <tr>\n",
       "      <th>1</th>\n",
       "      <td>44.5</td>\n",
       "    </tr>\n",
       "    <tr>\n",
       "      <th>2</th>\n",
       "      <td>17.2</td>\n",
       "    </tr>\n",
       "    <tr>\n",
       "      <th>3</th>\n",
       "      <td>151.5</td>\n",
       "    </tr>\n",
       "    <tr>\n",
       "      <th>4</th>\n",
       "      <td>180.8</td>\n",
       "    </tr>\n",
       "    <tr>\n",
       "      <th>...</th>\n",
       "      <td>...</td>\n",
       "    </tr>\n",
       "    <tr>\n",
       "      <th>195</th>\n",
       "      <td>38.2</td>\n",
       "    </tr>\n",
       "    <tr>\n",
       "      <th>196</th>\n",
       "      <td>94.2</td>\n",
       "    </tr>\n",
       "    <tr>\n",
       "      <th>197</th>\n",
       "      <td>177.0</td>\n",
       "    </tr>\n",
       "    <tr>\n",
       "      <th>198</th>\n",
       "      <td>283.6</td>\n",
       "    </tr>\n",
       "    <tr>\n",
       "      <th>199</th>\n",
       "      <td>232.1</td>\n",
       "    </tr>\n",
       "  </tbody>\n",
       "</table>\n",
       "<p>200 rows × 1 columns</p>\n",
       "</div>"
      ],
      "text/plain": [
       "        TV\n",
       "0    230.1\n",
       "1     44.5\n",
       "2     17.2\n",
       "3    151.5\n",
       "4    180.8\n",
       "..     ...\n",
       "195   38.2\n",
       "196   94.2\n",
       "197  177.0\n",
       "198  283.6\n",
       "199  232.1\n",
       "\n",
       "[200 rows x 1 columns]"
      ]
     },
     "execution_count": 3,
     "metadata": {},
     "output_type": "execute_result"
    }
   ],
   "source": [
    "#Spliting the dataset for simple linear regression\n",
    "X = df.iloc[:, : 1]\n",
    "y = df.iloc[:, 3]\n",
    "#Spliting the dataset as train set and test set\n",
    "X_train, X_test, y_train, y_test = train_test_split(X ,y, test_size = 0.25,random_state = 42)\n",
    "X"
   ]
  },
  {
   "cell_type": "code",
   "execution_count": 4,
   "id": "ead7f49d-6798-42a0-ba54-213561a4c5de",
   "metadata": {},
   "outputs": [
    {
     "data": {
      "text/plain": [
       "LinearRegression()"
      ]
     },
     "execution_count": 4,
     "metadata": {},
     "output_type": "execute_result"
    }
   ],
   "source": [
    "#Building a model for simple linear regression\n",
    "\n",
    "modelSimple = LinearRegression()\n",
    "modelSimple.fit(X_train, y_train)"
   ]
  },
  {
   "cell_type": "code",
   "execution_count": 5,
   "id": "7f3c1f4e-317d-48c0-b99d-716ef76face6",
   "metadata": {},
   "outputs": [
    {
     "name": "stdout",
     "output_type": "stream",
     "text": [
      "b = 7.098853680118275\n",
      "w = [0.05538653]\n"
     ]
    }
   ],
   "source": [
    "#View the calculated parameter/Derived parameter\n",
    "print(\"b = {}\".format(modelSimple.intercept_))\n",
    "print(\"w = {}\".format(modelSimple.coef_))"
   ]
  },
  {
   "cell_type": "code",
   "execution_count": 6,
   "id": "5d8377a6-dc83-43e0-8512-5ec3f0183c48",
   "metadata": {},
   "outputs": [
    {
     "name": "stdout",
     "output_type": "stream",
     "text": [
      "Mean squared error=5.513351187165511\n",
      "Coefficient of determination=0.7971876919875108\n"
     ]
    }
   ],
   "source": [
    "y_pred_s = modelSimple.predict(X_test)\n",
    "mean_for_simple=mean_squared_error(y_test, y_pred_s)\n",
    "print(f'Mean squared error={mean_squared_error(y_test, y_pred_s)}')\n",
    "# The coefficient of determination: 1 is perfect prediction\n",
    "score_for_simple = r2_score(y_test, y_pred_s)\n",
    "print(f\"Coefficient of determination={r2_score(y_test, y_pred_s)}\")"
   ]
  },
  {
   "cell_type": "code",
   "execution_count": 7,
   "id": "1e4e5158-8530-4944-9352-4523089ec1fb",
   "metadata": {},
   "outputs": [],
   "source": [
    "X = df.iloc[:, :-1]\n",
    "y = df.iloc[:,df.shape[1]-1]"
   ]
  },
  {
   "cell_type": "raw",
   "id": "304eb87a-b4ac-4360-86f2-d4871606882a",
   "metadata": {},
   "source": [
    "#training of our data in multiple linear regression"
   ]
  },
  {
   "cell_type": "code",
   "execution_count": 8,
   "id": "2c455201-8173-4168-a6a6-6692537f7e74",
   "metadata": {},
   "outputs": [],
   "source": [
    "X_train,X_test,y_train,y_test = train_test_split(X,y,test_size=0.25,random_state=42)"
   ]
  },
  {
   "cell_type": "code",
   "execution_count": 9,
   "id": "18d99d00-3685-4814-8993-99b80751d7fc",
   "metadata": {},
   "outputs": [
    {
     "data": {
      "text/plain": [
       "LinearRegression()"
      ]
     },
     "execution_count": 9,
     "metadata": {},
     "output_type": "execute_result"
    }
   ],
   "source": [
    "modelMultiple = LinearRegression()\n",
    "modelMultiple.fit(X_train,y_train)"
   ]
  },
  {
   "cell_type": "code",
   "execution_count": 10,
   "id": "48681fc5-ea4f-4dec-ad76-a8e74c2753be",
   "metadata": {},
   "outputs": [
    {
     "name": "stdout",
     "output_type": "stream",
     "text": [
      "b = 4.7418422441245625\n",
      "w = [0.05461383 0.09975946 0.00430495]\n"
     ]
    }
   ],
   "source": [
    "print(f'b = {modelMultiple.intercept_}')\n",
    "print(f'w = {modelMultiple.coef_}')"
   ]
  },
  {
   "cell_type": "code",
   "execution_count": 11,
   "id": "0a579a3a-19f8-42c0-b989-5e8c2d9cb3b4",
   "metadata": {},
   "outputs": [],
   "source": [
    "y_pred_m = modelMultiple.predict(X_test)"
   ]
  },
  {
   "cell_type": "code",
   "execution_count": 12,
   "id": "6894a2af-772d-4ab2-9789-614ac2ede566",
   "metadata": {},
   "outputs": [
    {
     "name": "stdout",
     "output_type": "stream",
     "text": [
      "Mean squared error=2.4040674447118855\n",
      "Coefficient of determination=0.9115647723992758\n"
     ]
    }
   ],
   "source": [
    "print(f'Mean squared error={mean_squared_error(y_test, y_pred_m)}')\n",
    "mean_for_multiple=mean_squared_error(y_test, y_pred_m)\n",
    "score_for_multiple=r2_score(y_test, y_pred_m)\n",
    "print(f'Coefficient of determination={r2_score(y_test, y_pred_m)}')"
   ]
  },
  {
   "cell_type": "code",
   "execution_count": 13,
   "id": "8a67ddb3-3827-473b-97dd-2295204fd551",
   "metadata": {
    "tags": []
   },
   "outputs": [
    {
     "name": "stdout",
     "output_type": "stream",
     "text": [
      "Mean squared error for linear regression is: 5.513351187165511\n",
      "Mean squared error for multiple linear regression is: 2.4040674447118855\n",
      "Coefficient of determination for linear regression is: 0.7971876919875108\n",
      "Coefficient of determination for multiple linear regression is: 0.9115647723992758\n"
     ]
    }
   ],
   "source": [
    "#By comparison between simple linear regression and multiple linear regression\n",
    "print(\"Mean squared error for linear regression is: {}\\nMean squared error for multiple linear regression is: {}\".format(mean_for_simple, mean_for_multiple))\n",
    "# The coefficient of determination: 1 is perfect prediction\n",
    "print(\"Coefficient of determination for linear regression is: {}\\nCoefficient of determination for multiple linear regression is: {}\".format(score_for_simple,score_for_multiple))\n"
   ]
  },
  {
   "cell_type": "raw",
   "id": "2a6fa88c-bce5-47dc-8a10-910f0be55fc0",
   "metadata": {},
   "source": [
    "The best model in our dataset which gives out good result is MULTIPLE LENEAR REGRESSION"
   ]
  }
 ],
 "metadata": {
  "kernelspec": {
   "display_name": "Python 3 (ipykernel)",
   "language": "python",
   "name": "python3"
  },
  "language_info": {
   "codemirror_mode": {
    "name": "ipython",
    "version": 3
   },
   "file_extension": ".py",
   "mimetype": "text/x-python",
   "name": "python",
   "nbconvert_exporter": "python",
   "pygments_lexer": "ipython3",
   "version": "3.9.13"
  }
 },
 "nbformat": 4,
 "nbformat_minor": 5
}
